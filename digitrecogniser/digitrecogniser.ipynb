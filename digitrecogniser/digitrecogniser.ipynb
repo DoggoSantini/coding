{
 "cells": [
  {
   "attachments": {},
   "cell_type": "markdown",
   "metadata": {},
   "source": [
    "Imports and Checking GPU Access"
   ]
  },
  {
   "cell_type": "code",
   "execution_count": 17,
   "metadata": {},
   "outputs": [],
   "source": [
    "import tensorflow as tf"
   ]
  },
  {
   "cell_type": "code",
   "execution_count": 18,
   "metadata": {},
   "outputs": [
    {
     "name": "stdout",
     "output_type": "stream",
     "text": [
      "Tensorflow version 2.11.1\n"
     ]
    }
   ],
   "source": [
    "print(\"Tensorflow version\", tf.__version__)"
   ]
  },
  {
   "cell_type": "code",
   "execution_count": 19,
   "metadata": {},
   "outputs": [
    {
     "name": "stdout",
     "output_type": "stream",
     "text": [
      "Num GPUs: 1\n"
     ]
    }
   ],
   "source": [
    "physical_devices = tf.config.list_physical_devices('GPU')\n",
    "print(\"Num GPUs:\", len(physical_devices))"
   ]
  },
  {
   "attachments": {},
   "cell_type": "markdown",
   "metadata": {},
   "source": [
    "Load in MNIST dataset"
   ]
  },
  {
   "cell_type": "code",
   "execution_count": 20,
   "metadata": {},
   "outputs": [],
   "source": [
    "(x_train, y_train), (x_test, y_test) = tf.keras.datasets.mnist.load_data()"
   ]
  },
  {
   "cell_type": "code",
   "execution_count": 21,
   "metadata": {},
   "outputs": [
    {
     "data": {
      "text/plain": [
       "((60000, 28, 28), (60000,), (10000, 28, 28), (10000,))"
      ]
     },
     "execution_count": 21,
     "metadata": {},
     "output_type": "execute_result"
    }
   ],
   "source": [
    "x_train.shape, y_train.shape, x_test.shape, y_test.shape"
   ]
  },
  {
   "cell_type": "code",
   "execution_count": 22,
   "metadata": {},
   "outputs": [],
   "source": [
    "def loadMNIST():\n",
    "    # Use keras' inbuilt datasets module to load data\n",
    "    (x_train, y_train), (x_test, y_test) = tf.keras.datasets.mnist.load_data()\n",
    "    \n",
    "    # x_train.shape = (60000, 28, 28)\n",
    "    # y_train.shape = (60000, )\n",
    "    # x_test.shape = (10000, 28, 28)\n",
    "    # y_test.shape = (10000, )\n",
    "\n",
    "    # Split 50:10 on train:validation, i.e. 50,000 datapoints for train, 10,000 for validation\n",
    "    x_val, y_val = x_train[-10_000:, :, :], y_train[-10_000:]\n",
    "    x_train, y_train = x_train[:-10_000, :, :], y_train[:-10_000]\n",
    "\n",
    "    return (x_train, y_train), (x_val, y_val), (x_test, y_test)"
   ]
  },
  {
   "cell_type": "code",
   "execution_count": 23,
   "metadata": {},
   "outputs": [],
   "source": [
    "(x_train, y_train), (x_val, y_val), (x_test, y_test) = loadMNIST()"
   ]
  },
  {
   "cell_type": "code",
   "execution_count": 24,
   "metadata": {},
   "outputs": [
    {
     "data": {
      "text/plain": [
       "((50000, 28, 28),\n",
       " (50000,),\n",
       " (10000, 28, 28),\n",
       " (10000,),\n",
       " (10000, 28, 28),\n",
       " (10000,))"
      ]
     },
     "execution_count": 24,
     "metadata": {},
     "output_type": "execute_result"
    }
   ],
   "source": [
    "x_train.shape, y_train.shape, x_val.shape, y_val.shape, x_test.shape, y_test.shape"
   ]
  },
  {
   "attachments": {},
   "cell_type": "markdown",
   "metadata": {},
   "source": [
    "Sampling data points"
   ]
  },
  {
   "cell_type": "code",
   "execution_count": 25,
   "metadata": {},
   "outputs": [],
   "source": [
    "import matplotlib.pyplot as plt"
   ]
  },
  {
   "cell_type": "code",
   "execution_count": 26,
   "metadata": {},
   "outputs": [],
   "source": [
    "idxs = tf.range(x_train.shape[0])\n",
    "random_idxs = tf.random.shuffle(idxs)[:5] # pick 5 random indices\n",
    "images = x_train[random_idxs, :, :]\n",
    "labels = y_train[random_idxs]"
   ]
  },
  {
   "cell_type": "code",
   "execution_count": 27,
   "metadata": {},
   "outputs": [
    {
     "data": {
      "image/png": "[encoded data removed]",
      "text/plain": [
       "<Figure size 640x480 with 5 Axes>"
      ]
     },
     "metadata": {},
     "output_type": "display_data"
    }
   ],
   "source": [
    "fig, axs = plt.subplots(1, 5)\n",
    "for i in range(5):\n",
    "    ax = axs[i]\n",
    "    ax.imshow(images[i, :, :], cmap = 'gray')\n",
    "    ax.axis('off')\n",
    "    ax.text(0.5, -0.2, 'Label: ' + str(labels[i]), size = 10, ha = \"center\", transform = ax.transAxes)\n",
    "plt.show()"
   ]
  },
  {
   "attachments": {},
   "cell_type": "markdown",
   "metadata": {},
   "source": [
    "Preprocessing"
   ]
  },
  {
   "cell_type": "code",
   "execution_count": 28,
   "metadata": {},
   "outputs": [],
   "source": [
    "def preprocess(data):\n",
    "    x_train, y_train, x_val, y_val, x_test, y_test = data\n",
    "\n",
    "    x_train = tf.convert_to_tensor(x_train, dtype = tf.float32) / 255\n",
    "    x_val   = tf.convert_to_tensor(x_val, dtype = tf.float32) / 255\n",
    "    x_test  = tf.convert_to_tensor(x_test, dtype = tf.float32) / 255\n",
    "\n",
    "    y_train = tf.one_hot(tf.convert_to_tensor(y_train), depth = 10)\n",
    "    y_val   = tf.one_hot(tf.convert_to_tensor(y_val),  depth = 10)\n",
    "    y_test  = tf.one_hot(tf.convert_to_tensor(y_test), depth = 10)\n",
    "\n",
    "    return x_train, y_train, x_val, y_val, x_test, y_test"
   ]
  },
  {
   "cell_type": "code",
   "execution_count": 29,
   "metadata": {},
   "outputs": [],
   "source": [
    "x_train, y_train, x_val, y_val, x_test, y_test = preprocess((x_train, y_train, x_val, y_val, x_test, y_test))"
   ]
  },
  {
   "attachments": {},
   "cell_type": "markdown",
   "metadata": {},
   "source": [
    "Creating the Model"
   ]
  },
  {
   "cell_type": "code",
   "execution_count": 30,
   "metadata": {},
   "outputs": [],
   "source": [
    "class CNN(tf.keras.Model):\n",
    "\n",
    "    def __init__(self):\n",
    "        super().__init__()\n",
    "        self.conv1 = tf.keras.layers.Conv2D(filters = 3, kernel_size = 3, strides = (1, 1), padding = 'valid', activation = 'relu', input_shape = (None, 28, 28, 1))\n",
    "        self.drop1 = tf.keras.layers.Dropout(rate = 0.5)\n",
    "                \n",
    "        self.conv2 = tf.keras.layers.Conv2D(filters = 3, kernel_size = 3, strides = (1, 1), padding = 'valid', activation = 'relu', input_shape = (None, 28, 28, 1))\n",
    "        self.drop2 = tf.keras.layers.Dropout(rate = 0.5)\n",
    "\n",
    "        self.flatten = tf.keras.layers.Flatten()\n",
    "\n",
    "        self.dense1 = tf.keras.layers.Dense(units = 10, activation = 'relu')\n",
    "        self.dense2 = tf.keras.layers.Dense(units = 10, activation = 'softmax')\n",
    "\n",
    "    def call(self, inputs):\n",
    "        x = tf.reshape(inputs, [-1, inputs.shape[1], inputs.shape[2], 1])\n",
    "        \n",
    "        x = self.conv1(x)\n",
    "        x = self.drop1(x)\n",
    "\n",
    "        x = self.conv2(x)\n",
    "        x = self.drop2(x)\n",
    "        \n",
    "        x = self.flatten(x)\n",
    "\n",
    "        x = self.dense1(x)\n",
    "        x = self.dense2(x)\n",
    "\n",
    "        return x\n",
    "    "
   ]
  },
  {
   "cell_type": "code",
   "execution_count": 31,
   "metadata": {},
   "outputs": [],
   "source": [
    "model = CNN()"
   ]
  },
  {
   "cell_type": "code",
   "execution_count": 32,
   "metadata": {},
   "outputs": [],
   "source": [
    "model.compile(optimizer = 'Adam', loss = tf.keras.losses.CategoricalCrossentropy(), metrics = ['accuracy'])"
   ]
  },
  {
   "cell_type": "code",
   "execution_count": 33,
   "metadata": {},
   "outputs": [],
   "source": [
    "model.build(input_shape = [None, 28, 28])"
   ]
  },
  {
   "cell_type": "code",
   "execution_count": 34,
   "metadata": {},
   "outputs": [
    {
     "name": "stdout",
     "output_type": "stream",
     "text": [
      "Model: \"cnn_1\"\n",
      "_________________________________________________________________\n",
      " Layer (type)                Output Shape              Param #   \n",
      "=================================================================\n",
      " conv2d_2 (Conv2D)           multiple                  30        \n",
      "                                                                 \n",
      " dropout_2 (Dropout)         multiple                  0         \n",
      "                                                                 \n",
      " conv2d_3 (Conv2D)           multiple                  84        \n",
      "                                                                 \n",
      " dropout_3 (Dropout)         multiple                  0         \n",
      "                                                                 \n",
      " flatten_1 (Flatten)         multiple                  0         \n",
      "                                                                 \n",
      " dense_2 (Dense)             multiple                  17290     \n",
      "                                                                 \n",
      " dense_3 (Dense)             multiple                  110       \n",
      "                                                                 \n",
      "=================================================================\n",
      "Total params: 17,514\n",
      "Trainable params: 17,514\n",
      "Non-trainable params: 0\n",
      "_________________________________________________________________\n"
     ]
    }
   ],
   "source": [
    "model.summary()"
   ]
  },
  {
   "cell_type": "code",
   "execution_count": 35,
   "metadata": {},
   "outputs": [
    {
     "name": "stdout",
     "output_type": "stream",
     "text": [
      "(50000, 28, 28) (50000, 10)\n"
     ]
    }
   ],
   "source": [
    "print(x_train.shape, y_train.shape)"
   ]
  },
  {
   "cell_type": "code",
   "execution_count": 36,
   "metadata": {},
   "outputs": [
    {
     "name": "stdout",
     "output_type": "stream",
     "text": [
      "Epoch 1/50\n"
     ]
    },
    {
     "name": "stderr",
     "output_type": "stream",
     "text": [
      "2023-05-12 14:15:05.043853: E tensorflow/core/grappler/optimizers/meta_optimizer.cc:954] layout failed: INVALID_ARGUMENT: Size of values 0 does not match size of permutation 4 @ fanin shape incnn_1/dropout_2/dropout/SelectV2-2-TransposeNHWCToNCHW-LayoutOptimizer\n",
      "2023-05-12 14:15:06.260332: I tensorflow/compiler/xla/stream_executor/cuda/cuda_dnn.cc:428] Loaded cuDNN version 8401\n",
      "2023-05-12 14:15:07.283859: I tensorflow/tsl/platform/default/subprocess.cc:304] Start cannot spawn child process: No such file or directory\n",
      "2023-05-12 14:15:07.405705: I tensorflow/compiler/xla/service/service.cc:173] XLA service 0x7f54647db380 initialized for platform CUDA (this does not guarantee that XLA will be used). Devices:\n",
      "2023-05-12 14:15:07.405727: I tensorflow/compiler/xla/service/service.cc:181]   StreamExecutor device (0): NVIDIA GeForce GTX 1060 with Max-Q Design, Compute Capability 6.1\n",
      "2023-05-12 14:15:07.409203: I tensorflow/compiler/mlir/tensorflow/utils/dump_mlir_util.cc:268] disabling MLIR crash reproducer, set env var `MLIR_CRASH_REPRODUCER_DIRECTORY` to enable.\n",
      "2023-05-12 14:15:07.472194: I tensorflow/tsl/platform/default/subprocess.cc:304] Start cannot spawn child process: No such file or directory\n",
      "2023-05-12 14:15:07.508489: I tensorflow/compiler/jit/xla_compilation_cache.cc:477] Compiled cluster using XLA!  This line is logged at most once for the lifetime of the process.\n"
     ]
    },
    {
     "name": "stdout",
     "output_type": "stream",
     "text": [
      "500/500 [==============================] - 5s 3ms/step - loss: 0.8044 - accuracy: 0.7403 - val_loss: 0.2875 - val_accuracy: 0.9207\n",
      "Epoch 2/50\n",
      "500/500 [==============================] - 1s 3ms/step - loss: 0.3865 - accuracy: 0.8853 - val_loss: 0.2176 - val_accuracy: 0.9448\n",
      "Epoch 3/50\n",
      "500/500 [==============================] - 1s 3ms/step - loss: 0.3210 - accuracy: 0.9052 - val_loss: 0.1927 - val_accuracy: 0.9494\n",
      "Epoch 4/50\n",
      "500/500 [==============================] - 1s 3ms/step - loss: 0.2840 - accuracy: 0.9153 - val_loss: 0.1642 - val_accuracy: 0.9584\n",
      "Epoch 5/50\n",
      "500/500 [==============================] - 1s 3ms/step - loss: 0.2578 - accuracy: 0.9230 - val_loss: 0.1561 - val_accuracy: 0.9584\n",
      "Epoch 6/50\n",
      "500/500 [==============================] - 1s 3ms/step - loss: 0.2433 - accuracy: 0.9258 - val_loss: 0.1471 - val_accuracy: 0.9595\n",
      "Epoch 7/50\n",
      "500/500 [==============================] - 1s 3ms/step - loss: 0.2303 - accuracy: 0.9304 - val_loss: 0.1328 - val_accuracy: 0.9652\n",
      "Epoch 8/50\n",
      "500/500 [==============================] - 1s 3ms/step - loss: 0.2201 - accuracy: 0.9331 - val_loss: 0.1322 - val_accuracy: 0.9649\n",
      "Epoch 9/50\n",
      "500/500 [==============================] - 1s 3ms/step - loss: 0.2148 - accuracy: 0.9355 - val_loss: 0.1240 - val_accuracy: 0.9671\n",
      "Epoch 10/50\n",
      "500/500 [==============================] - 1s 3ms/step - loss: 0.2057 - accuracy: 0.9371 - val_loss: 0.1194 - val_accuracy: 0.9691\n",
      "Epoch 11/50\n",
      "500/500 [==============================] - 1s 3ms/step - loss: 0.2005 - accuracy: 0.9383 - val_loss: 0.1195 - val_accuracy: 0.9670\n",
      "Epoch 12/50\n",
      "500/500 [==============================] - 1s 3ms/step - loss: 0.1954 - accuracy: 0.9411 - val_loss: 0.1124 - val_accuracy: 0.9709\n",
      "Epoch 13/50\n",
      "500/500 [==============================] - 1s 3ms/step - loss: 0.1945 - accuracy: 0.9400 - val_loss: 0.1139 - val_accuracy: 0.9685\n",
      "Epoch 14/50\n",
      "500/500 [==============================] - 1s 3ms/step - loss: 0.1884 - accuracy: 0.9425 - val_loss: 0.1133 - val_accuracy: 0.9687\n",
      "Epoch 15/50\n",
      "500/500 [==============================] - 1s 3ms/step - loss: 0.1859 - accuracy: 0.9422 - val_loss: 0.1103 - val_accuracy: 0.9709\n",
      "Epoch 16/50\n",
      "500/500 [==============================] - 1s 3ms/step - loss: 0.1885 - accuracy: 0.9415 - val_loss: 0.1105 - val_accuracy: 0.9707\n",
      "Epoch 17/50\n",
      "500/500 [==============================] - 1s 3ms/step - loss: 0.1857 - accuracy: 0.9436 - val_loss: 0.1109 - val_accuracy: 0.9702\n",
      "Epoch 18/50\n",
      "500/500 [==============================] - 1s 3ms/step - loss: 0.1841 - accuracy: 0.9443 - val_loss: 0.1066 - val_accuracy: 0.9710\n",
      "Epoch 19/50\n",
      "500/500 [==============================] - 1s 3ms/step - loss: 0.1824 - accuracy: 0.9452 - val_loss: 0.1057 - val_accuracy: 0.9716\n",
      "Epoch 20/50\n",
      "500/500 [==============================] - 1s 3ms/step - loss: 0.1810 - accuracy: 0.9456 - val_loss: 0.1111 - val_accuracy: 0.9685\n",
      "Epoch 21/50\n",
      "500/500 [==============================] - 1s 3ms/step - loss: 0.1807 - accuracy: 0.9440 - val_loss: 0.1070 - val_accuracy: 0.9708\n",
      "Epoch 22/50\n",
      "500/500 [==============================] - 1s 3ms/step - loss: 0.1789 - accuracy: 0.9442 - val_loss: 0.1057 - val_accuracy: 0.9717\n",
      "Epoch 23/50\n",
      "500/500 [==============================] - 1s 3ms/step - loss: 0.1762 - accuracy: 0.9460 - val_loss: 0.1033 - val_accuracy: 0.9710\n",
      "Epoch 24/50\n",
      "500/500 [==============================] - 1s 3ms/step - loss: 0.1746 - accuracy: 0.9468 - val_loss: 0.1032 - val_accuracy: 0.9723\n",
      "Epoch 25/50\n",
      "500/500 [==============================] - 1s 3ms/step - loss: 0.1758 - accuracy: 0.9457 - val_loss: 0.1029 - val_accuracy: 0.9728\n",
      "Epoch 26/50\n",
      "500/500 [==============================] - 1s 3ms/step - loss: 0.1750 - accuracy: 0.9470 - val_loss: 0.1051 - val_accuracy: 0.9712\n",
      "Epoch 27/50\n",
      "500/500 [==============================] - 1s 3ms/step - loss: 0.1719 - accuracy: 0.9465 - val_loss: 0.1032 - val_accuracy: 0.9724\n",
      "Epoch 28/50\n",
      "500/500 [==============================] - 1s 3ms/step - loss: 0.1733 - accuracy: 0.9457 - val_loss: 0.1040 - val_accuracy: 0.9711\n",
      "Epoch 29/50\n",
      "500/500 [==============================] - 1s 3ms/step - loss: 0.1740 - accuracy: 0.9464 - val_loss: 0.1025 - val_accuracy: 0.9723\n",
      "Epoch 30/50\n",
      "500/500 [==============================] - 1s 3ms/step - loss: 0.1749 - accuracy: 0.9458 - val_loss: 0.1038 - val_accuracy: 0.9728\n",
      "Epoch 31/50\n",
      "500/500 [==============================] - 1s 3ms/step - loss: 0.1690 - accuracy: 0.9483 - val_loss: 0.1025 - val_accuracy: 0.9726\n",
      "Epoch 32/50\n",
      "500/500 [==============================] - 1s 3ms/step - loss: 0.1707 - accuracy: 0.9465 - val_loss: 0.0981 - val_accuracy: 0.9743\n",
      "Epoch 33/50\n",
      "500/500 [==============================] - 1s 3ms/step - loss: 0.1681 - accuracy: 0.9484 - val_loss: 0.1023 - val_accuracy: 0.9717\n",
      "Epoch 34/50\n",
      "500/500 [==============================] - 1s 3ms/step - loss: 0.1704 - accuracy: 0.9471 - val_loss: 0.1002 - val_accuracy: 0.9712\n",
      "Epoch 35/50\n",
      "500/500 [==============================] - 1s 3ms/step - loss: 0.1728 - accuracy: 0.9468 - val_loss: 0.1020 - val_accuracy: 0.9727\n",
      "Epoch 36/50\n",
      "500/500 [==============================] - 1s 3ms/step - loss: 0.1694 - accuracy: 0.9476 - val_loss: 0.1016 - val_accuracy: 0.9721\n",
      "Epoch 37/50\n",
      "500/500 [==============================] - 1s 3ms/step - loss: 0.1692 - accuracy: 0.9479 - val_loss: 0.0994 - val_accuracy: 0.9725\n",
      "Epoch 38/50\n",
      "500/500 [==============================] - 1s 3ms/step - loss: 0.1664 - accuracy: 0.9478 - val_loss: 0.0989 - val_accuracy: 0.9729\n",
      "Epoch 39/50\n",
      "500/500 [==============================] - 1s 3ms/step - loss: 0.1690 - accuracy: 0.9473 - val_loss: 0.0988 - val_accuracy: 0.9742\n",
      "Epoch 40/50\n",
      "500/500 [==============================] - 1s 3ms/step - loss: 0.1680 - accuracy: 0.9482 - val_loss: 0.1004 - val_accuracy: 0.9736\n",
      "Epoch 41/50\n",
      "500/500 [==============================] - 1s 3ms/step - loss: 0.1662 - accuracy: 0.9487 - val_loss: 0.0969 - val_accuracy: 0.9735\n",
      "Epoch 42/50\n",
      "500/500 [==============================] - 1s 3ms/step - loss: 0.1647 - accuracy: 0.9485 - val_loss: 0.1020 - val_accuracy: 0.9732\n",
      "Epoch 43/50\n",
      "500/500 [==============================] - 1s 3ms/step - loss: 0.1650 - accuracy: 0.9489 - val_loss: 0.1059 - val_accuracy: 0.9712\n",
      "Epoch 44/50\n",
      "500/500 [==============================] - 1s 3ms/step - loss: 0.1671 - accuracy: 0.9482 - val_loss: 0.0977 - val_accuracy: 0.9733\n",
      "Epoch 45/50\n",
      "500/500 [==============================] - 1s 3ms/step - loss: 0.1677 - accuracy: 0.9469 - val_loss: 0.1022 - val_accuracy: 0.9724\n",
      "Epoch 46/50\n",
      "500/500 [==============================] - 1s 3ms/step - loss: 0.1648 - accuracy: 0.9492 - val_loss: 0.0970 - val_accuracy: 0.9736\n",
      "Epoch 47/50\n",
      "500/500 [==============================] - 1s 3ms/step - loss: 0.1638 - accuracy: 0.9492 - val_loss: 0.0978 - val_accuracy: 0.9733\n",
      "Epoch 48/50\n",
      "500/500 [==============================] - 1s 3ms/step - loss: 0.1616 - accuracy: 0.9504 - val_loss: 0.0993 - val_accuracy: 0.9729\n",
      "Epoch 49/50\n",
      "500/500 [==============================] - 1s 3ms/step - loss: 0.1664 - accuracy: 0.9489 - val_loss: 0.0985 - val_accuracy: 0.9722\n",
      "Epoch 50/50\n",
      "500/500 [==============================] - 1s 3ms/step - loss: 0.1655 - accuracy: 0.9489 - val_loss: 0.1023 - val_accuracy: 0.9715\n"
     ]
    }
   ],
   "source": [
    "hist = model.fit(x_train, y_train, batch_size = 100, shuffle = True, validation_data = (x_val, y_val), epochs = 50)"
   ]
  },
  {
   "attachments": {},
   "cell_type": "markdown",
   "metadata": {},
   "source": [
    "Plotting Accuracy"
   ]
  },
  {
   "cell_type": "code",
   "execution_count": 37,
   "metadata": {},
   "outputs": [
    {
     "data": {
      "image/png": "[encoded data removed]",
      "text/plain": [
       "<Figure size 640x480 with 1 Axes>"
      ]
     },
     "metadata": {},
     "output_type": "display_data"
    }
   ],
   "source": [
    "plt.plot(hist.history['accuracy'])\n",
    "plt.plot(hist.history['val_accuracy'])\n",
    "plt.title('model accuracy')\n",
    "plt.ylabel('accuracy')\n",
    "plt.xlabel('epoch')\n",
    "plt.legend(['train', 'val'], loc='upper left')\n",
    "plt.show()"
   ]
  },
  {
   "attachments": {},
   "cell_type": "markdown",
   "metadata": {},
   "source": [
    "Viewing Results"
   ]
  },
  {
   "cell_type": "code",
   "execution_count": 38,
   "metadata": {},
   "outputs": [
    {
     "name": "stdout",
     "output_type": "stream",
     "text": [
      "313/313 [==============================] - 0s 1ms/step\n"
     ]
    }
   ],
   "source": [
    "prob_test = model.predict(x_test)"
   ]
  },
  {
   "cell_type": "code",
   "execution_count": 39,
   "metadata": {},
   "outputs": [
    {
     "data": {
      "text/plain": [
       "(10000, 10)"
      ]
     },
     "execution_count": 39,
     "metadata": {},
     "output_type": "execute_result"
    }
   ],
   "source": [
    "prob_test.shape"
   ]
  },
  {
   "cell_type": "code",
   "execution_count": 40,
   "metadata": {},
   "outputs": [],
   "source": [
    "import numpy as np"
   ]
  },
  {
   "cell_type": "code",
   "execution_count": 41,
   "metadata": {},
   "outputs": [],
   "source": [
    "pred_test = np.argmax(prob_test, axis = 1)"
   ]
  },
  {
   "cell_type": "code",
   "execution_count": 42,
   "metadata": {},
   "outputs": [],
   "source": [
    "label_test = np.argmax(y_test, axis = 1)"
   ]
  },
  {
   "cell_type": "code",
   "execution_count": 44,
   "metadata": {},
   "outputs": [
    {
     "name": "stdout",
     "output_type": "stream",
     "text": [
      "tf.Tensor([5857 9934 8106 7311 8505], shape=(5,), dtype=int32)\n"
     ]
    }
   ],
   "source": [
    "idxs = tf.range(x_test.shape[0])\n",
    "random_idxs = tf.random.shuffle(idxs)[:5] # pick 5 random indices\n",
    "print(random_idxs)\n",
    "images = np.array(x_test)[random_idxs, :, :]\n",
    "labels = label_test[random_idxs]\n",
    "preds = pred_test[random_idxs]"
   ]
  },
  {
   "cell_type": "code",
   "execution_count": 45,
   "metadata": {},
   "outputs": [
    {
     "data": {
      "image/png": "[encoded data removed]",
      "text/plain": [
       "<Figure size 640x480 with 5 Axes>"
      ]
     },
     "metadata": {},
     "output_type": "display_data"
    }
   ],
   "source": [
    "fig, axs = plt.subplots(1, 5)\n",
    "for i in range(5):\n",
    "    ax = axs[i]\n",
    "    ax.imshow(images[i, :, :], cmap = 'gray')\n",
    "    ax.axis('off')\n",
    "    ax.text(0.5, -0.2, 'Label: ' + str(labels[i]), size = 10, ha = \"center\", transform = ax.transAxes)\n",
    "    ax.text(0.5, -0.4, 'Pred: ' + str(preds[i]), size = 10, ha = \"center\", transform = ax.transAxes)\n",
    "plt.show()"
   ]
  },
  {
   "cell_type": "code",
   "execution_count": 46,
   "metadata": {},
   "outputs": [
    {
     "name": "stdout",
     "output_type": "stream",
     "text": [
      "313/313 [==============================] - 1s 2ms/step - loss: 0.0964 - accuracy: 0.9730\n"
     ]
    }
   ],
   "source": [
    "test_loss, test_acc = model.evaluate(x_test, y_test)"
   ]
  },
  {
   "cell_type": "code",
   "execution_count": 47,
   "metadata": {},
   "outputs": [
    {
     "name": "stdout",
     "output_type": "stream",
     "text": [
      "Loss = 0.0964, \n",
      "Accuracy: 97.30%\n"
     ]
    }
   ],
   "source": [
    "print(f'Loss = {test_loss:.4f}, \\nAccuracy: {test_acc*100:.2f}%')"
   ]
  }
 ],
 "metadata": {
  "kernelspec": {
   "display_name": "digitrecogniser",
   "language": "python",
   "name": "python3"
  },
  "language_info": {
   "codemirror_mode": {
    "name": "ipython",
    "version": 3
   },
   "file_extension": ".py",
   "mimetype": "text/x-python",
   "name": "python",
   "nbconvert_exporter": "python",
   "pygments_lexer": "ipython3",
   "version": "3.10.11"
  },
  "orig_nbformat": 4
 },
 "nbformat": 4,
 "nbformat_minor": 2
}
