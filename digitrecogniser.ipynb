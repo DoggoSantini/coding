{
  "nbformat": 4,
  "nbformat_minor": 0,
  "metadata": {
    "colab": {
      "provenance": [],
      "gpuType": "T4",
      "authorship_tag": "ABX9TyPjrUxFJ1a3ZCxqtYPVDXEF",
      "include_colab_link": true
    },
    "kernelspec": {
      "name": "python3",
      "display_name": "Python 3"
    },
    "language_info": {
      "name": "python"
    },
    "accelerator": "GPU",
    "gpuClass": "standard"
  },
  "cells": [
    {
      "cell_type": "markdown",
      "metadata": {
        "id": "view-in-github",
        "colab_type": "text"
      },
      "source": [
        "<a href=\"https://colab.research.google.com/github/DoggoSantini/coding/blob/main/digitrecogniser.ipynb\" target=\"_parent\"><img src=\"https://colab.research.google.com/assets/colab-badge.svg\" alt=\"Open In Colab\"/></a>"
      ]
    },
    {
      "cell_type": "markdown",
      "source": [
        "Imports, Version Checking, and GPU Access"
      ],
      "metadata": {
        "id": "8jeXuaqNEbBa"
      }
    },
    {
      "cell_type": "code",
      "execution_count": 1,
      "metadata": {
        "colab": {
          "base_uri": "https://localhost:8080/"
        },
        "id": "LMGeci3I-fbC",
        "outputId": "93e8e602-6495-4c5e-b01b-5451ba0ca9bd"
      },
      "outputs": [
        {
          "output_type": "stream",
          "name": "stdout",
          "text": [
            "Tensorflow version 2.12.0\n"
          ]
        }
      ],
      "source": [
        "import tensorflow as tf\n",
        "import numpy as np\n",
        "import matplotlib.pyplot as plt\n",
        "\n",
        "print(\"Tensorflow version\", tf.__version__)"
      ]
    },
    {
      "cell_type": "code",
      "source": [
        "physical_devices = tf.config.list_physical_devices('GPU')\n",
        "print(\"Num GPUs:\", len(physical_devices))"
      ],
      "metadata": {
        "colab": {
          "base_uri": "https://localhost:8080/"
        },
        "id": "fDPk6FE0-0bo",
        "outputId": "dc7cdbe4-f066-4851-81d5-a29ec03143d2"
      },
      "execution_count": 2,
      "outputs": [
        {
          "output_type": "stream",
          "name": "stdout",
          "text": [
            "Num GPUs: 1\n"
          ]
        }
      ]
    },
    {
      "cell_type": "markdown",
      "source": [
        "Loading Data"
      ],
      "metadata": {
        "id": "qDe7QoI2EiLW"
      }
    },
    {
      "cell_type": "code",
      "source": [
        "def loadMNIST():\n",
        "    # Use keras' inbuilt datasets module to load data\n",
        "    (x_train, y_train), (x_test, y_test) = tf.keras.datasets.mnist.load_data()\n",
        "    \n",
        "    # x_train.shape = (60000, 28, 28)\n",
        "    # y_train.shape = (60000, )\n",
        "    # x_test.shape = (10000, 28, 28)\n",
        "    # y_test.shape = (10000, )\n",
        "\n",
        "    # Split 50:10 on train:validation, i.e. 50,000 datapoints for train, 10,000 for validation\n",
        "    x_val, y_val = x_train[-10_000:, :, :], y_train[-10_000:]\n",
        "    x_train, y_train = x_train[:-10_000, :, :], y_train[:-10_000]\n",
        "\n",
        "    return (x_train, y_train), (x_val, y_val), (x_test, y_test)"
      ],
      "metadata": {
        "id": "nxaQxvbR_Lna"
      },
      "execution_count": 3,
      "outputs": []
    },
    {
      "cell_type": "code",
      "source": [
        "(x_train, y_train), (x_val, y_val), (x_test, y_test) = loadMNIST()"
      ],
      "metadata": {
        "id": "4yD6GOGg_a_J"
      },
      "execution_count": 4,
      "outputs": []
    },
    {
      "cell_type": "code",
      "source": [
        "x_train.shape, y_train.shape, x_val.shape, y_val.shape, x_test.shape, y_test.shape"
      ],
      "metadata": {
        "colab": {
          "base_uri": "https://localhost:8080/"
        },
        "id": "JzRuqZvk_hKV",
        "outputId": "dc87b852-030d-4bc3-9f52-a76589af790c"
      },
      "execution_count": 5,
      "outputs": [
        {
          "output_type": "execute_result",
          "data": {
            "text/plain": [
              "((50000, 28, 28),\n",
              " (50000,),\n",
              " (10000, 28, 28),\n",
              " (10000,),\n",
              " (10000, 28, 28),\n",
              " (10000,))"
            ]
          },
          "metadata": {},
          "execution_count": 5
        }
      ]
    },
    {
      "cell_type": "markdown",
      "source": [
        "Viewing the Data"
      ],
      "metadata": {
        "id": "jXAkcqJUEmCB"
      }
    },
    {
      "cell_type": "code",
      "source": [
        "idxs = tf.range(x_train.shape[0])\n",
        "random_idxs = tf.random.shuffle(idxs)[:5] # pick 5 random indices\n",
        "images = x_train[random_idxs, :, :]\n",
        "labels = y_train[[random_idxs]]"
      ],
      "metadata": {
        "colab": {
          "base_uri": "https://localhost:8080/"
        },
        "id": "97unypPABq6l",
        "outputId": "fcf205d9-3dbc-41f1-c2aa-3a49ae86eb4a"
      },
      "execution_count": 6,
      "outputs": [
        {
          "output_type": "stream",
          "name": "stderr",
          "text": [
            "<ipython-input-6-7fe0dc9e21ae>:4: FutureWarning: Using a non-tuple sequence for multidimensional indexing is deprecated; use `arr[tuple(seq)]` instead of `arr[seq]`. In the future this will be interpreted as an array index, `arr[np.array(seq)]`, which will result either in an error or a different result.\n",
            "  labels = y_train[[random_idxs]]\n"
          ]
        }
      ]
    },
    {
      "cell_type": "code",
      "source": [
        "fig, axs = plt.subplots(1, 5)\n",
        "for i in range(5):\n",
        "    ax = axs[i]\n",
        "    ax.imshow(images[i, :, :], cmap = 'gray')\n",
        "    ax.axis('off')\n",
        "    ax.text(0.5, -0.2, 'Label: ' + str(labels[i]), size = 10, ha = \"center\", transform = ax.transAxes)\n",
        "plt.show()"
      ],
      "metadata": {
        "colab": {
          "base_uri": "https://localhost:8080/",
          "height": 142
        },
        "id": "ILqEvTtEBtO6",
        "outputId": "fce12905-7e33-4241-8285-970d69e81c08"
      },
      "execution_count": 7,
      "outputs": [
        {
          "output_type": "display_data",
          "data": {
            "text/plain": [
              "<Figure size 640x480 with 5 Axes>"
            ],
            "image/png": "[encoded data removed]"
          },
          "metadata": {}
        }
      ]
    },
    {
      "cell_type": "markdown",
      "source": [
        "Preprocess with TF"
      ],
      "metadata": {
        "id": "1xAV8fR1Er7m"
      }
    },
    {
      "cell_type": "code",
      "source": [
        "def preprocess(data):\n",
        "    x_train, y_train, x_val, y_val, x_test, y_test = data\n",
        "\n",
        "    x_train = tf.convert_to_tensor(x_train, dtype = tf.float32) / 255\n",
        "    x_val   = tf.convert_to_tensor(x_val, dtype = tf.float32) / 255\n",
        "    x_test  = tf.convert_to_tensor(x_test, dtype = tf.float32) / 255\n",
        "\n",
        "    y_train = tf.one_hot(tf.convert_to_tensor(y_train), depth = 10)\n",
        "    y_val   = tf.one_hot(tf.convert_to_tensor(y_val),  depth = 10)\n",
        "    y_test  = tf.one_hot(tf.convert_to_tensor(y_test), depth = 10)\n",
        "\n",
        "    return x_train, y_train, x_val, y_val, x_test, y_test"
      ],
      "metadata": {
        "id": "aMltybwI_Mez"
      },
      "execution_count": 8,
      "outputs": []
    },
    {
      "cell_type": "code",
      "source": [
        "x_train, y_train, x_val, y_val, x_test, y_test = preprocess((x_train, y_train, x_val, y_val, x_test, y_test))"
      ],
      "metadata": {
        "id": "8eBx4BG4_TU2"
      },
      "execution_count": 9,
      "outputs": []
    },
    {
      "cell_type": "markdown",
      "source": [
        "Creating the Model with Keras"
      ],
      "metadata": {
        "id": "vFAwNh7uEuOb"
      }
    },
    {
      "cell_type": "code",
      "source": [
        "class CNN(tf.keras.Model):\n",
        "\n",
        "    def __init__(self):\n",
        "        super().__init__()\n",
        "        self.conv1 = tf.keras.layers.Conv2D(filters = 3, kernel_size = 3, strides = (1, 1), padding = 'valid', activation = 'relu', input_shape = (None, 28, 28, 1))\n",
        "        self.drop1 = tf.keras.layers.Dropout(rate = 0.5)\n",
        "                \n",
        "        self.conv2 = tf.keras.layers.Conv2D(filters = 3, kernel_size = 3, strides = (1, 1), padding = 'valid', activation = 'relu', input_shape = (None, 28, 28, 1))\n",
        "        self.drop2 = tf.keras.layers.Dropout(rate = 0.5)\n",
        "\n",
        "        self.flatten = tf.keras.layers.Flatten()\n",
        "\n",
        "        self.dense1 = tf.keras.layers.Dense(units = 10, activation = 'relu')\n",
        "        self.dense2 = tf.keras.layers.Dense(units = 10, activation = 'softmax')\n",
        "\n",
        "    def call(self, inputs):\n",
        "        x = tf.reshape(inputs, [-1, inputs.shape[1], inputs.shape[2], 1])\n",
        "        \n",
        "        x = self.conv1(x)\n",
        "        x = self.drop1(x)\n",
        "\n",
        "        x = self.conv2(x)\n",
        "        x = self.drop2(x)\n",
        "        \n",
        "        x = self.flatten(x)\n",
        "\n",
        "        x = self.dense1(x)\n",
        "        x = self.dense2(x)\n",
        "\n",
        "        return x"
      ],
      "metadata": {
        "id": "cExi2Woe_kXg"
      },
      "execution_count": 10,
      "outputs": []
    },
    {
      "cell_type": "code",
      "source": [
        "model = CNN()\n",
        "model.compile(optimizer = 'Adam', loss = tf.keras.losses.CategoricalCrossentropy(), metrics = ['accuracy'])\n",
        "model.build(input_shape = [None, 28, 28])\n",
        "model.summary()"
      ],
      "metadata": {
        "colab": {
          "base_uri": "https://localhost:8080/"
        },
        "id": "VW0ZI98T_msn",
        "outputId": "77049ba8-3179-4f70-9267-f99a27e2289e"
      },
      "execution_count": 11,
      "outputs": [
        {
          "output_type": "stream",
          "name": "stdout",
          "text": [
            "Model: \"cnn\"\n",
            "_________________________________________________________________\n",
            " Layer (type)                Output Shape              Param #   \n",
            "=================================================================\n",
            " conv2d (Conv2D)             multiple                  30        \n",
            "                                                                 \n",
            " dropout (Dropout)           multiple                  0         \n",
            "                                                                 \n",
            " conv2d_1 (Conv2D)           multiple                  84        \n",
            "                                                                 \n",
            " dropout_1 (Dropout)         multiple                  0         \n",
            "                                                                 \n",
            " flatten (Flatten)           multiple                  0         \n",
            "                                                                 \n",
            " dense (Dense)               multiple                  17290     \n",
            "                                                                 \n",
            " dense_1 (Dense)             multiple                  110       \n",
            "                                                                 \n",
            "=================================================================\n",
            "Total params: 17,514\n",
            "Trainable params: 17,514\n",
            "Non-trainable params: 0\n",
            "_________________________________________________________________\n"
          ]
        }
      ]
    },
    {
      "cell_type": "markdown",
      "source": [
        "Fitting the Data"
      ],
      "metadata": {
        "id": "6LyFQ6rxEy1y"
      }
    },
    {
      "cell_type": "code",
      "source": [
        "hist = model.fit(x_train, y_train, batch_size = 100, shuffle = True, validation_data = (x_val, y_val), epochs = 50)"
      ],
      "metadata": {
        "id": "P33iozF2_pjn"
      },
      "execution_count": 12,
      "outputs": []
    },
    {
      "cell_type": "code",
      "source": [
        "plt.plot(hist.history['accuracy'])\n",
        "plt.plot(hist.history['val_accuracy'])\n",
        "plt.title('model accuracy')\n",
        "plt.ylabel('accuracy')\n",
        "plt.xlabel('epoch')\n",
        "plt.legend(['train', 'val'], loc='upper left')\n",
        "plt.show()"
      ],
      "metadata": {
        "colab": {
          "base_uri": "https://localhost:8080/",
          "height": 472
        },
        "id": "WsxuXb7m_vAB",
        "outputId": "e0ee20c5-126b-4d19-cd9a-7228481aee0b"
      },
      "execution_count": 13,
      "outputs": [
        {
          "output_type": "display_data",
          "data": {
            "text/plain": [
              "<Figure size 640x480 with 1 Axes>"
            ],
            "image/png": "[encoded data removed]"
          },
          "metadata": {}
        }
      ]
    },
    {
      "cell_type": "markdown",
      "source": [
        "Viewing Results"
      ],
      "metadata": {
        "id": "9jkuDfK-E3SO"
      }
    },
    {
      "cell_type": "code",
      "source": [
        "prob_test = model.predict(x_test)"
      ],
      "metadata": {
        "colab": {
          "base_uri": "https://localhost:8080/"
        },
        "id": "AXYJwsENAVRJ",
        "outputId": "3d6a3913-cf04-4200-a321-06b0ca3fb326"
      },
      "execution_count": 14,
      "outputs": [
        {
          "output_type": "stream",
          "name": "stdout",
          "text": [
            "313/313 [==============================] - 1s 2ms/step\n"
          ]
        }
      ]
    },
    {
      "cell_type": "code",
      "source": [
        "pred_test = np.argmax(prob_test, axis = 1)\n",
        "label_test = np.argmax(y_test, axis = 1)"
      ],
      "metadata": {
        "id": "xogIk9PSAWLQ"
      },
      "execution_count": 15,
      "outputs": []
    },
    {
      "cell_type": "code",
      "source": [
        "idxs = tf.range(x_test.shape[0])\n",
        "random_idxs = tf.random.shuffle(idxs)[:5] # pick 5 random indices\n",
        "images = np.array(x_test)[random_idxs, :, :]\n",
        "labels = label_test[[random_idxs]]\n",
        "preds = pred_test[[random_idxs]]"
      ],
      "metadata": {
        "colab": {
          "base_uri": "https://localhost:8080/"
        },
        "id": "z-5OMgDYAbSc",
        "outputId": "7a00032c-27dc-4fd2-de7a-fe8db004b7f0"
      },
      "execution_count": 17,
      "outputs": [
        {
          "output_type": "stream",
          "name": "stderr",
          "text": [
            "<ipython-input-17-93f90f90cfc1>:4: FutureWarning: Using a non-tuple sequence for multidimensional indexing is deprecated; use `arr[tuple(seq)]` instead of `arr[seq]`. In the future this will be interpreted as an array index, `arr[np.array(seq)]`, which will result either in an error or a different result.\n",
            "  labels = label_test[[random_idxs]]\n",
            "<ipython-input-17-93f90f90cfc1>:5: FutureWarning: Using a non-tuple sequence for multidimensional indexing is deprecated; use `arr[tuple(seq)]` instead of `arr[seq]`. In the future this will be interpreted as an array index, `arr[np.array(seq)]`, which will result either in an error or a different result.\n",
            "  preds = pred_test[[random_idxs]]\n"
          ]
        }
      ]
    },
    {
      "cell_type": "code",
      "source": [
        "fig, axs = plt.subplots(1, 5)\n",
        "for i in range(5):\n",
        "    ax = axs[i]\n",
        "    ax.imshow(images[i, :, :], cmap = 'gray')\n",
        "    ax.axis('off')\n",
        "    ax.text(0.5, -0.2, 'Label: ' + str(labels[i]), size = 10, ha = \"center\", transform = ax.transAxes)\n",
        "    ax.text(0.5, -0.4, 'Pred: ' + str(preds[i]), size = 10, ha = \"center\", transform = ax.transAxes)\n",
        "plt.show()"
      ],
      "metadata": {
        "colab": {
          "base_uri": "https://localhost:8080/",
          "height": 159
        },
        "id": "ZbHUEs2nAfvY",
        "outputId": "268474d7-59fc-4162-a8f6-c3aa3766e865"
      },
      "execution_count": 18,
      "outputs": [
        {
          "output_type": "display_data",
          "data": {
            "text/plain": [
              "<Figure size 640x480 with 5 Axes>"
            ],
            "image/png": "[encoded data removed]"
          },
          "metadata": {}
        }
      ]
    },
    {
      "cell_type": "markdown",
      "source": [
        "Finally Accuracy and Loss"
      ],
      "metadata": {
        "id": "y-cvez7fE5nF"
      }
    },
    {
      "cell_type": "code",
      "source": [
        "test_loss, test_acc = model.evaluate(x_test, y_test)"
      ],
      "metadata": {
        "colab": {
          "base_uri": "https://localhost:8080/"
        },
        "id": "ujBKNcYYAhE_",
        "outputId": "31171298-48c8-4cce-8635-7db5cc181896"
      },
      "execution_count": 19,
      "outputs": [
        {
          "output_type": "stream",
          "name": "stdout",
          "text": [
            "313/313 [==============================] - 1s 2ms/step - loss: 0.0869 - accuracy: 0.9747\n"
          ]
        }
      ]
    },
    {
      "cell_type": "code",
      "source": [
        "print(f'Loss = {test_loss:.4f}, \\nAccuracy: {test_acc*100:.2f}%')"
      ],
      "metadata": {
        "colab": {
          "base_uri": "https://localhost:8080/"
        },
        "id": "ILFf5YvxAhpX",
        "outputId": "53fa57ef-1ddb-4b83-99b1-9fcc313d6f53"
      },
      "execution_count": 20,
      "outputs": [
        {
          "output_type": "stream",
          "name": "stdout",
          "text": [
            "Loss = 0.0869, \n",
            "Accuracy: 97.47%\n"
          ]
        }
      ]
    }
  ]
}