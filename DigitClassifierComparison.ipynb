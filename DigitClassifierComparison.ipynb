{
 "cells": [
  {
   "cell_type": "markdown",
   "id": "c1c8c81d",
   "metadata": {},
   "source": [
    "<h1> Comparison between MLPs and CNNs for digit classification </h1>"
   ]
  },
  {
   "cell_type": "markdown",
   "id": "b3ee4782",
   "metadata": {},
   "source": [
    "<h2> 1: Introduction </h2>"
   ]
  },
  {
   "cell_type": "markdown",
   "id": "0e444963",
   "metadata": {},
   "source": [
    "In this notebook we will look at the simple concept of digit recognition and use it as a framework to look at the differences in performance between multilayer perceptrons (MLPs) and convolutional neural networks (CNNs). "
   ]
  },
  {
   "cell_type": "markdown",
   "id": "5a03720d",
   "metadata": {},
   "source": [
    "<h2> 2: Imports </h2>"
   ]
  },
  {
   "cell_type": "markdown",
   "id": "9346edb9",
   "metadata": {},
   "source": [
    "For this project we will be using the Keras module of Tensorflow and importing the MNIST handwritten digit dataset. MatPlotLib and Random are imported for exploratory data analysis."
   ]
  },
  {
   "cell_type": "code",
   "execution_count": 43,
   "id": "33fa627f",
   "metadata": {},
   "outputs": [],
   "source": [
    "from tensorflow.keras.datasets import mnist\n",
    "from tensorflow.keras import Sequential\n",
    "from tensorflow.keras.layers import Dense, Conv2D, Flatten\n",
    "from tensorflow.keras.utils import to_categorical\n",
    "\n",
    "import matplotlib.pyplot as plt\n",
    "import random"
   ]
  },
  {
   "cell_type": "markdown",
   "id": "77ec6f3c",
   "metadata": {},
   "source": [
    "Using the MNIST load_data method we import our data. For both models we must use one-hot-encoding to transform our outputs. For our convolutional neural network we must also restructure the data."
   ]
  },
  {
   "cell_type": "code",
   "execution_count": 52,
   "id": "323040e1",
   "metadata": {},
   "outputs": [],
   "source": [
    "(x_train, y_train), (x_test, y_test) = mnist.load_data()\n",
    "x_train = x_train.astype('float32') / 255\n",
    "x_test = x_test.astype('float32') / 255\n",
    "\n",
    "\n",
    "y_train = to_categorical(y_train)\n",
    "y_test = to_categorical(y_test)\n",
    "\n",
    "x_train_MLP = x_train.reshape(x_train.shape[0], 784)\n",
    "x_test_MLP = x_test.reshape(x_test.shape[0], 784)\n",
    "\n",
    "x_train_CNN = x_train.reshape(60000, 28, 28, 1)\n",
    "x_test_CNN = x_test.reshape(10000, 28, 28, 1)"
   ]
  },
  {
   "cell_type": "markdown",
   "id": "27a25983",
   "metadata": {},
   "source": [
    "We then use the random method to give us a preview of the data."
   ]
  },
  {
   "cell_type": "code",
   "execution_count": 104,
   "id": "a6f3cbe5",
   "metadata": {},
   "outputs": [
    {
     "data": {
      "text/plain": [
       "<function matplotlib.pyplot.show(close=None, block=None)>"
      ]
     },
     "execution_count": 104,
     "metadata": {},
     "output_type": "execute_result"
    },
    {
     "data": {
      "image/png": "[encoded data removed]",
      "text/plain": [
       "<Figure size 720x360 with 10 Axes>"
      ]
     },
     "metadata": {
      "needs_background": "light"
     },
     "output_type": "display_data"
    }
   ],
   "source": [
    "fig = plt.figure(figsize = (10, 5))\n",
    "for i in range(10):\n",
    "    n = random.randint(0, 1000)\n",
    "    fig.add_subplot(2, 5, i+1)\n",
    "    plt.imshow(x_train[n], cmap = 'gray_r')\n",
    "    plt.axis('off')\n",
    "plt.show"
   ]
  },
  {
   "cell_type": "markdown",
   "id": "4aac3b83",
   "metadata": {},
   "source": [
    "<h2> 3: Creating the models </h2>"
   ]
  },
  {
   "cell_type": "markdown",
   "id": "953a6cbd",
   "metadata": {},
   "source": [
    "Now we create our models using the Keras Sequential module, and using Dense and 2D Convolutional layers. Due to the nature of categorical modelling we have picked a relevant loss function, and we choose to use the metric of accuracy to reach a conclusion at the end."
   ]
  },
  {
   "cell_type": "code",
   "execution_count": 59,
   "id": "af42c1e7",
   "metadata": {},
   "outputs": [
    {
     "name": "stdout",
     "output_type": "stream",
     "text": [
      "Model: \"sequential_12\"\n",
      "_________________________________________________________________\n",
      "Layer (type)                 Output Shape              Param #   \n",
      "=================================================================\n",
      "dense_33 (Dense)             (None, 256)               200960    \n",
      "_________________________________________________________________\n",
      "dense_34 (Dense)             (None, 128)               32896     \n",
      "_________________________________________________________________\n",
      "dense_35 (Dense)             (None, 64)                8256      \n",
      "_________________________________________________________________\n",
      "dense_36 (Dense)             (None, 10)                650       \n",
      "=================================================================\n",
      "Total params: 242,762\n",
      "Trainable params: 242,762\n",
      "Non-trainable params: 0\n",
      "_________________________________________________________________\n"
     ]
    }
   ],
   "source": [
    "MLP = Sequential([\n",
    "    Dense(256, input_shape = (784, ), activation = 'relu'),\n",
    "    Dense(128, activation = 'relu'),\n",
    "    Dense(64, activation = 'relu'),\n",
    "    Dense(10, activation = 'softmax')\n",
    "])\n",
    "\n",
    "MLP.compile(optimizer = 'adam', loss = 'categorical_crossentropy', metrics = ['accuracy'])\n",
    "\n",
    "MLP.summary()"
   ]
  },
  {
   "cell_type": "code",
   "execution_count": 61,
   "id": "dbe0dd1c",
   "metadata": {},
   "outputs": [
    {
     "name": "stdout",
     "output_type": "stream",
     "text": [
      "Model: \"sequential_14\"\n",
      "_________________________________________________________________\n",
      "Layer (type)                 Output Shape              Param #   \n",
      "=================================================================\n",
      "conv2d_14 (Conv2D)           (None, 26, 26, 32)        320       \n",
      "_________________________________________________________________\n",
      "conv2d_15 (Conv2D)           (None, 24, 24, 16)        4624      \n",
      "_________________________________________________________________\n",
      "flatten_6 (Flatten)          (None, 9216)              0         \n",
      "_________________________________________________________________\n",
      "dense_38 (Dense)             (None, 10)                92170     \n",
      "=================================================================\n",
      "Total params: 97,114\n",
      "Trainable params: 97,114\n",
      "Non-trainable params: 0\n",
      "_________________________________________________________________\n"
     ]
    }
   ],
   "source": [
    "CNN = Sequential([\n",
    "    Conv2D(32, kernel_size = 3, activation = 'relu', input_shape = (28, 28, 1)),\n",
    "    Conv2D(16, kernel_size = 3, activation = 'relu'),\n",
    "    Flatten(),\n",
    "    Dense(10, activation = 'softmax')\n",
    "])\n",
    "\n",
    "CNN.compile(optimizer = 'adam', loss = 'categorical_crossentropy', metrics = ['accuracy'])\n",
    "\n",
    "CNN.summary()"
   ]
  },
  {
   "cell_type": "markdown",
   "id": "4ca6e98a",
   "metadata": {},
   "source": [
    "<h2> 4: Training </h2>"
   ]
  },
  {
   "cell_type": "markdown",
   "id": "2c1e7e78",
   "metadata": {},
   "source": [
    "Now we use the fit method to train each model. The batch size was chosen such that each epoch of each model took around the same time to fit, and both models ran for 10 epochs.. Throughout we will also call the test data as our validation data to compare the accuracies of the models, both over time and compared to each other."
   ]
  },
  {
   "cell_type": "code",
   "execution_count": 65,
   "id": "17262927",
   "metadata": {},
   "outputs": [
    {
     "name": "stdout",
     "output_type": "stream",
     "text": [
      "Epoch 1/10\n",
      "15000/15000 [==============================] - 26s 2ms/step - loss: 0.0455 - accuracy: 0.9902 - val_loss: 0.2365 - val_accuracy: 0.9740loss: 0.0436 - accuracy:  - ETA: 5s - loss: 0.0436 -  - ETA\n",
      "Epoch 2/10\n",
      "15000/15000 [==============================] - 24s 2ms/step - loss: 0.0445 - accuracy: 0.9904 - val_loss: 0.2471 - val_accuracy: 0.9737\n",
      "Epoch 3/10\n",
      "15000/15000 [==============================] - 24s 2ms/step - loss: 0.0429 - accuracy: 0.9912 - val_loss: 0.2492 - val_accuracy: 0.9761\n",
      "Epoch 4/10\n",
      "15000/15000 [==============================] - 25s 2ms/step - loss: 0.0484 - accuracy: 0.9907 - val_loss: 0.1845 - val_accuracy: 0.9788\n",
      "Epoch 5/10\n",
      "15000/15000 [==============================] - 24s 2ms/step - loss: 0.0473 - accuracy: 0.9912 - val_loss: 0.2700 - val_accuracy: 0.9748ETA: 22s - loss: 0.0 - ETA: 20s - loss: 0.0441 - accuracy: 0.9 - ETA: 20s - los - ETA: 18s  - E - ETA: 9s - - ETA: 6s - loss: 0.0469 - accuracy: 0.99 - ETA: 6s - loss: 0.0 - ETA - ETA: 4s - loss: 0.0480 - accu - ETA: 4s - loss: 0.0 - - ETA: 0s - loss: 0.0474 - accuracy: 0.99 - ETA: 0s - loss: 0.0473 - accuracy: 0.\n",
      "Epoch 6/10\n",
      "15000/15000 [==============================] - 24s 2ms/step - loss: 0.0404 - accuracy: 0.9924 - val_loss: 0.2485 - val_accuracy: 0.9781 - ETA: 16s - loss: 0.0399 -  - ETA: 15s - loss: 0.0438 - accuracy: 0. - ETA: 15s - loss: 0.0434 - a - ETA: 14s - loss: 0.0438  - ETA: 13s - loss: 0.0410 - accuracy: 0.99 - ETA: 13s - loss: 0.0407 - accura - ETA: 10s - loss: 0.0381 - accuracy: 0.992 - ETA: 1 - ETA: 3s - loss: 0.040 - ETA: 2s - loss: 0.0395 - accuracy: 0. - ETA: 2s - ETA: 0s - loss: 0.040 - ETA: 0s - loss: 0.0407 - ac\n",
      "Epoch 7/10\n",
      "15000/15000 [==============================] - 27s 2ms/step - loss: 0.0410 - accuracy: 0.9922 - val_loss: 0.2905 - val_accuracy: 0.9751\n",
      "Epoch 8/10\n",
      "15000/15000 [==============================] - 29s 2ms/step - loss: 0.0391 - accuracy: 0.9926 - val_loss: 0.3225 - val_accuracy: 0.9741\n",
      "Epoch 9/10\n",
      "15000/15000 [==============================] - 26s 2ms/step - loss: 0.0496 - accuracy: 0.9916 - val_loss: 0.2263 - val_accuracy: 0.9785\n",
      "Epoch 10/10\n",
      "15000/15000 [==============================] - 24s 2ms/step - loss: 0.0410 - accuracy: 0.9927 - val_loss: 0.2586 - val_accuracy: 0.9776\n",
      "Epoch 1/10\n",
      "1875/1875 [==============================] - 33s 18ms/step - loss: 0.0013 - accuracy: 0.9997 - val_loss: 0.1117 - val_accuracy: 0.9850\n",
      "Epoch 2/10\n",
      "1875/1875 [==============================] - 37s 20ms/step - loss: 0.0037 - accuracy: 0.9988 - val_loss: 0.0992 - val_accuracy: 0.9849\n",
      "Epoch 3/10\n",
      "1875/1875 [==============================] - 46s 24ms/step - loss: 0.0026 - accuracy: 0.9991 - val_loss: 0.1060 - val_accuracy: 0.9861\n",
      "Epoch 4/10\n",
      "1875/1875 [==============================] - 48s 26ms/step - loss: 0.0028 - accuracy: 0.9990 - val_loss: 0.0944 - val_accuracy: 0.9878\n",
      "Epoch 5/10\n",
      "1875/1875 [==============================] - 43s 23ms/step - loss: 7.9092e-04 - accuracy: 0.9997 - val_loss: 0.1364 - val_accuracy: 0.9826\n",
      "Epoch 6/10\n",
      "1875/1875 [==============================] - 42s 22ms/step - loss: 0.0028 - accuracy: 0.9992 - val_loss: 0.1100 - val_accuracy: 0.9863\n",
      "Epoch 7/10\n",
      "1875/1875 [==============================] - 40s 21ms/step - loss: 0.0015 - accuracy: 0.9996 - val_loss: 0.1189 - val_accuracy: 0.9857\n",
      "Epoch 8/10\n",
      "1875/1875 [==============================] - 34s 18ms/step - loss: 0.0013 - accuracy: 0.9995 - val_loss: 0.1161 - val_accuracy: 0.9864\n",
      "Epoch 9/10\n",
      "1875/1875 [==============================] - 37s 20ms/step - loss: 0.0018 - accuracy: 0.9993 - val_loss: 0.1131 - val_accuracy: 0.9873\n",
      "Epoch 10/10\n",
      "1875/1875 [==============================] - 39s 21ms/step - loss: 0.0024 - accuracy: 0.9993 - val_loss: 0.1200 - val_accuracy: 0.9860\n"
     ]
    }
   ],
   "source": [
    "MLP_hist = MLP.fit(x = x_train_MLP, y = y_train, batch_size = 4, epochs = 10, validation_data = (x_test_MLP, y_test))\n",
    "CNN_hist = CNN.fit(x = x_train_CNN, y = y_train, batch_size = 32, epochs = 10, validation_data = (x_test_CNN, y_test))"
   ]
  },
  {
   "cell_type": "markdown",
   "id": "d6fe59b1",
   "metadata": {},
   "source": [
    "<h2> 5: Accuracy </h2>"
   ]
  },
  {
   "cell_type": "markdown",
   "id": "888a3ce5",
   "metadata": {},
   "source": [
    "In this next figure we will plot both the accuracy and validation accuracy of both models as a function of the current epoch."
   ]
  },
  {
   "cell_type": "code",
   "execution_count": 96,
   "id": "0c8f3fad",
   "metadata": {},
   "outputs": [
    {
     "data": {
      "text/plain": [
       "<matplotlib.legend.Legend at 0x27d8c6a1c40>"
      ]
     },
     "execution_count": 96,
     "metadata": {},
     "output_type": "execute_result"
    },
    {
     "data": {
      "image/png": "[encoded data removed]",
      "text/plain": [
       "<Figure size 1440x360 with 2 Axes>"
      ]
     },
     "metadata": {
      "needs_background": "light"
     },
     "output_type": "display_data"
    }
   ],
   "source": [
    "acc_fig = plt.figure(figsize=(20,5))\n",
    "x = list(range(1,11))\n",
    "\n",
    "\n",
    "MLP_acc = MLP_hist.history['accuracy']\n",
    "MLP_val = MLP_hist.history['val_accuracy']\n",
    "\n",
    "CNN_acc = CNN_hist.history['accuracy']\n",
    "CNN_val = CNN_hist.history['val_accuracy']\n",
    "\n",
    "acc_fig.add_subplot(1, 2, 1)\n",
    "\n",
    "plt.plot(x, MLP_acc)\n",
    "plt.plot(x, CNN_acc)\n",
    "plt.title('Model accuracy on training set')\n",
    "plt.legend(['MLP accuracy', 'CNN accuracy'])\n",
    "\n",
    "acc_fig.add_subplot(1, 2, 2)\n",
    "plt.plot(x, MLP_val)\n",
    "plt.plot(x, CNN_val)\n",
    "plt.title('Model accuracy on validation set')\n",
    "plt.legend(['MLP accuracy', 'CNN accuracy'])\n",
    "\n"
   ]
  },
  {
   "cell_type": "markdown",
   "id": "eb61032f",
   "metadata": {},
   "source": [
    "<h2> 6: Checking our results </h2>"
   ]
  },
  {
   "cell_type": "markdown",
   "id": "119e6e03",
   "metadata": {},
   "source": [
    "Here we will generate a few images from our testing set similarly to before, and display the predictions made by each of our models."
   ]
  },
  {
   "cell_type": "markdown",
   "id": "77f48806",
   "metadata": {},
   "source": [
    "TODO"
   ]
  }
 ],
 "metadata": {
  "kernelspec": {
   "display_name": "Python 3 (ipykernel)",
   "language": "python",
   "name": "python3"
  },
  "language_info": {
   "codemirror_mode": {
    "name": "ipython",
    "version": 3
   },
   "file_extension": ".py",
   "mimetype": "text/x-python",
   "name": "python",
   "nbconvert_exporter": "python",
   "pygments_lexer": "ipython3",
   "version": "3.9.0"
  }
 },
 "nbformat": 4,
 "nbformat_minor": 5
}
