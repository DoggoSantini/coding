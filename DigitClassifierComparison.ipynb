{
 "cells": [
  {
   "cell_type": "markdown",
   "id": "c1c8c81d",
   "metadata": {},
   "source": [
    "<h1> Comparison between MLPs and CNNs for digit classification </h1>"
   ]
  },
  {
   "cell_type": "markdown",
   "id": "b3ee4782",
   "metadata": {},
   "source": [
    "<h2> 1: Introduction </h2>"
   ]
  },
  {
   "cell_type": "markdown",
   "id": "0e444963",
   "metadata": {},
   "source": [
    "In this notebook we will look at the simple concept of digit recognition and use it as a framework to look at the differences in performance between multilayer perceptrons (MLPs) and convolutional neural networks (CNNs). "
   ]
  },
  {
   "cell_type": "markdown",
   "id": "5a03720d",
   "metadata": {},
   "source": [
    "<h2> 2: Imports </h2>"
   ]
  },
  {
   "cell_type": "markdown",
   "id": "9346edb9",
   "metadata": {},
   "source": [
    "For this project we will be using the Keras module of Tensorflow and importing the MNIST handwritten digit dataset. MatPlotLib and Random are imported for exploratory data analysis."
   ]
  },
  {
   "cell_type": "code",
   "execution_count": 28,
   "id": "33fa627f",
   "metadata": {},
   "outputs": [],
   "source": [
    "from tensorflow.keras.datasets import mnist\n",
    "from tensorflow.keras import Sequential\n",
    "from tensorflow.keras.layers import Dense, Conv2D, Flatten\n",
    "from tensorflow.keras.utils import to_categorical\n",
    "\n",
    "import matplotlib.pyplot as plt\n",
    "import random"
   ]
  },
  {
   "cell_type": "markdown",
   "id": "77ec6f3c",
   "metadata": {},
   "source": [
    "Using the MNIST load_data method we import our data. For both models we must use one-hot-encoding to transform our outputs. For our convolutional neural network we must also restructure the data."
   ]
  },
  {
   "cell_type": "code",
   "execution_count": 42,
   "id": "323040e1",
   "metadata": {},
   "outputs": [
    {
     "name": "stdout",
     "output_type": "stream",
     "text": [
      "60000\n",
      "60000\n"
     ]
    }
   ],
   "source": [
    "(x_train, y_train), (x_test, y_test) = mnist.load_data()\n",
    "x_train = x_train.astype('float32') / 255\n",
    "x_test = x_test.astype('float32') / 255\n",
    "\n",
    "\n",
    "y_train = to_categorical(y_train)\n",
    "y_test = to_categorical(y_test)\n",
    "\n",
    "x_train_MLP = x_train.reshape(x_train.shape[0], 784)\n",
    "x_test_MLP = x_test.reshape(x_test.shape[0], 784)\n",
    "\n",
    "x_train_CNN = x_train.reshape(60000, 28, 28, 1)\n",
    "x_test_CNN = x_test.reshape(10000, 28, 28, 1)"
   ]
  },
  {
   "cell_type": "markdown",
   "id": "27a25983",
   "metadata": {},
   "source": [
    "We then use the random method to give us a preview of the data."
   ]
  },
  {
   "cell_type": "code",
   "execution_count": 30,
   "id": "a6f3cbe5",
   "metadata": {},
   "outputs": [
    {
     "data": {
      "text/plain": [
       "<function matplotlib.pyplot.show(close=None, block=None)>"
      ]
     },
     "execution_count": 30,
     "metadata": {},
     "output_type": "execute_result"
    },
    {
     "data": {
      "image/png": "[encoded data removed]",
      "text/plain": [
       "<Figure size 720x360 with 10 Axes>"
      ]
     },
     "metadata": {
      "needs_background": "light"
     },
     "output_type": "display_data"
    }
   ],
   "source": [
    "fig = plt.figure(figsize = (10, 5))\n",
    "for i in range(10):\n",
    "    n = random.randint(0, 10000)\n",
    "    fig.add_subplot(2, 5, i+1)\n",
    "    plt.imshow(x_train[n], cmap = 'gray_r')\n",
    "    plt.axis('off')\n",
    "plt.show"
   ]
  },
  {
   "cell_type": "markdown",
   "id": "4aac3b83",
   "metadata": {},
   "source": [
    "<h2> 3: Creating the models </h2>"
   ]
  },
  {
   "cell_type": "markdown",
   "id": "953a6cbd",
   "metadata": {},
   "source": [
    "Now we create our models using the Keras Sequential module, and using Dense and 2D Convolutional layers. Due to the nature of categorical modelling we have picked a relevant loss function, and we choose to use the metric of accuracy to reach a conclusion at the end."
   ]
  },
  {
   "cell_type": "code",
   "execution_count": 31,
   "id": "af42c1e7",
   "metadata": {},
   "outputs": [
    {
     "name": "stdout",
     "output_type": "stream",
     "text": [
      "Model: \"sequential_2\"\n",
      "_________________________________________________________________\n",
      "Layer (type)                 Output Shape              Param #   \n",
      "=================================================================\n",
      "dense_5 (Dense)              (None, 256)               200960    \n",
      "_________________________________________________________________\n",
      "dense_6 (Dense)              (None, 128)               32896     \n",
      "_________________________________________________________________\n",
      "dense_7 (Dense)              (None, 64)                8256      \n",
      "_________________________________________________________________\n",
      "dense_8 (Dense)              (None, 10)                650       \n",
      "=================================================================\n",
      "Total params: 242,762\n",
      "Trainable params: 242,762\n",
      "Non-trainable params: 0\n",
      "_________________________________________________________________\n"
     ]
    }
   ],
   "source": [
    "MLP = Sequential([\n",
    "    Dense(256, input_shape = (784, ), activation = 'relu'),\n",
    "    Dense(128, activation = 'relu'),\n",
    "    Dense(64, activation = 'relu'),\n",
    "    Dense(10, activation = 'softmax')\n",
    "])\n",
    "\n",
    "MLP.compile(optimizer = 'adam', loss = 'categorical_crossentropy', metrics = ['accuracy'])\n",
    "\n",
    "MLP.summary()"
   ]
  },
  {
   "cell_type": "code",
   "execution_count": 32,
   "id": "dbe0dd1c",
   "metadata": {},
   "outputs": [
    {
     "name": "stdout",
     "output_type": "stream",
     "text": [
      "Model: \"sequential_3\"\n",
      "_________________________________________________________________\n",
      "Layer (type)                 Output Shape              Param #   \n",
      "=================================================================\n",
      "conv2d_2 (Conv2D)            (None, 26, 26, 32)        320       \n",
      "_________________________________________________________________\n",
      "conv2d_3 (Conv2D)            (None, 24, 24, 16)        4624      \n",
      "_________________________________________________________________\n",
      "flatten_1 (Flatten)          (None, 9216)              0         \n",
      "_________________________________________________________________\n",
      "dense_9 (Dense)              (None, 10)                92170     \n",
      "=================================================================\n",
      "Total params: 97,114\n",
      "Trainable params: 97,114\n",
      "Non-trainable params: 0\n",
      "_________________________________________________________________\n"
     ]
    }
   ],
   "source": [
    "CNN = Sequential([\n",
    "    Conv2D(32, kernel_size = 3, activation = 'relu', input_shape = (28, 28, 1)),\n",
    "    Conv2D(16, kernel_size = 3, activation = 'relu'),\n",
    "    Flatten(),\n",
    "    Dense(10, activation = 'softmax')\n",
    "])\n",
    "\n",
    "CNN.compile(optimizer = 'adam', loss = 'categorical_crossentropy', metrics = ['accuracy'])\n",
    "\n",
    "CNN.summary()"
   ]
  },
  {
   "cell_type": "markdown",
   "id": "4ca6e98a",
   "metadata": {},
   "source": [
    "<h2> 4: Training </h2>"
   ]
  },
  {
   "cell_type": "markdown",
   "id": "2c1e7e78",
   "metadata": {},
   "source": [
    "Now we use the fit method to train each model. The batch size was chosen such that each epoch of each model took around the same time to fit, and both models ran for 10 epochs.. Throughout we will also call the test data as our validation data to compare the accuracies of the models, both over time and compared to each other."
   ]
  },
  {
   "cell_type": "code",
   "execution_count": 33,
   "id": "17262927",
   "metadata": {},
   "outputs": [
    {
     "name": "stdout",
     "output_type": "stream",
     "text": [
      "Epoch 1/10\n",
      "15000/15000 [==============================] - 18s 1ms/step - loss: 0.2130 - accuracy: 0.9364 - val_loss: 0.1820 - val_accuracy: 0.9443\n",
      "Epoch 2/10\n",
      "15000/15000 [==============================] - 18s 1ms/step - loss: 0.1141 - accuracy: 0.9679 - val_loss: 0.1108 - val_accuracy: 0.9710A: 1s - loss: 0\n",
      "Epoch 3/10\n",
      "15000/15000 [==============================] - 18s 1ms/step - loss: 0.0888 - accuracy: 0.9757 - val_loss: 0.1100 - val_accuracy: 0.9701\n",
      "Epoch 4/10\n",
      "15000/15000 [==============================] - 17s 1ms/step - loss: 0.0783 - accuracy: 0.9788 - val_loss: 0.1253 - val_accuracy: 0.9743\n",
      "Epoch 5/10\n",
      "15000/15000 [==============================] - 19s 1ms/step - loss: 0.0686 - accuracy: 0.9814 - val_loss: 0.1380 - val_accuracy: 0.9700\n",
      "Epoch 6/10\n",
      "15000/15000 [==============================] - 17s 1ms/step - loss: 0.0664 - accuracy: 0.9838 - val_loss: 0.0914 - val_accuracy: 0.9785\n",
      "Epoch 7/10\n",
      "15000/15000 [==============================] - 19s 1ms/step - loss: 0.0572 - accuracy: 0.9849 - val_loss: 0.1223 - val_accuracy: 0.9767los - ETA: 11s - loss: 0.0518 - accuracy: 0.984 - ETA: 11s - loss: 0.0\n",
      "Epoch 8/10\n",
      "15000/15000 [==============================] - 18s 1ms/step - loss: 0.0563 - accuracy: 0.9859 - val_loss: 0.1940 - val_accuracy: 0.9731\n",
      "Epoch 9/10\n",
      "15000/15000 [==============================] - 16s 1ms/step - loss: 0.0521 - accuracy: 0.9871 - val_loss: 0.1634 - val_accuracy: 0.9770\n",
      "Epoch 10/10\n",
      "15000/15000 [==============================] - 16s 1ms/step - loss: 0.0534 - accuracy: 0.9876 - val_loss: 0.1893 - val_accuracy: 0.9736\n",
      "Epoch 1/10\n",
      "1875/1875 [==============================] - 32s 17ms/step - loss: 0.1494 - accuracy: 0.9555 - val_loss: 0.0599 - val_accuracy: 0.9805\n",
      "Epoch 2/10\n",
      "1875/1875 [==============================] - 33s 18ms/step - loss: 0.0593 - accuracy: 0.9818 - val_loss: 0.0568 - val_accuracy: 0.9823\n",
      "Epoch 3/10\n",
      "1875/1875 [==============================] - 33s 18ms/step - loss: 0.0406 - accuracy: 0.9875 - val_loss: 0.0440 - val_accuracy: 0.9851\n",
      "Epoch 4/10\n",
      "1875/1875 [==============================] - 31s 17ms/step - loss: 0.0289 - accuracy: 0.9908 - val_loss: 0.0465 - val_accuracy: 0.9857\n",
      "Epoch 5/10\n",
      "1875/1875 [==============================] - 33s 18ms/step - loss: 0.0203 - accuracy: 0.9932 - val_loss: 0.0471 - val_accuracy: 0.9870\n",
      "Epoch 6/10\n",
      "1875/1875 [==============================] - 33s 18ms/step - loss: 0.0159 - accuracy: 0.9946 - val_loss: 0.0542 - val_accuracy: 0.9858\n",
      "Epoch 7/10\n",
      "1875/1875 [==============================] - 31s 17ms/step - loss: 0.0119 - accuracy: 0.9961 - val_loss: 0.0507 - val_accuracy: 0.9871\n",
      "Epoch 8/10\n",
      "1875/1875 [==============================] - 34s 18ms/step - loss: 0.0096 - accuracy: 0.9968 - val_loss: 0.0628 - val_accuracy: 0.9861\n",
      "Epoch 9/10\n",
      "1875/1875 [==============================] - 33s 18ms/step - loss: 0.0067 - accuracy: 0.9977 - val_loss: 0.0568 - val_accuracy: 0.9873\n",
      "Epoch 10/10\n",
      "1875/1875 [==============================] - 32s 17ms/step - loss: 0.0072 - accuracy: 0.9975 - val_loss: 0.0546 - val_accuracy: 0.9859\n"
     ]
    }
   ],
   "source": [
    "MLP_hist = MLP.fit(x = x_train_MLP, y = y_train, batch_size = 4, epochs = 10, validation_data = (x_test_MLP, y_test))\n",
    "CNN_hist = CNN.fit(x = x_train_CNN, y = y_train, batch_size = 32, epochs = 10, validation_data = (x_test_CNN, y_test))"
   ]
  },
  {
   "cell_type": "markdown",
   "id": "d6fe59b1",
   "metadata": {},
   "source": [
    "<h2> 5: Accuracy </h2>"
   ]
  },
  {
   "cell_type": "markdown",
   "id": "888a3ce5",
   "metadata": {},
   "source": [
    "In this next figure we will plot both the accuracy and validation accuracy of both models as a function of the current epoch."
   ]
  },
  {
   "cell_type": "code",
   "execution_count": 34,
   "id": "0c8f3fad",
   "metadata": {},
   "outputs": [
    {
     "data": {
      "text/plain": [
       "<matplotlib.legend.Legend at 0x1d508281d90>"
      ]
     },
     "execution_count": 34,
     "metadata": {},
     "output_type": "execute_result"
    },
    {
     "data": {
      "image/png": "[encoded data removed]",
      "text/plain": [
       "<Figure size 1440x360 with 2 Axes>"
      ]
     },
     "metadata": {
      "needs_background": "light"
     },
     "output_type": "display_data"
    }
   ],
   "source": [
    "acc_fig = plt.figure(figsize=(20,5))\n",
    "x = list(range(1,11))\n",
    "\n",
    "\n",
    "MLP_acc = MLP_hist.history['accuracy']\n",
    "MLP_val = MLP_hist.history['val_accuracy']\n",
    "\n",
    "CNN_acc = CNN_hist.history['accuracy']\n",
    "CNN_val = CNN_hist.history['val_accuracy']\n",
    "\n",
    "acc_fig.add_subplot(1, 2, 1)\n",
    "\n",
    "plt.plot(x, MLP_acc)\n",
    "plt.plot(x, CNN_acc)\n",
    "plt.title('Model accuracy on training set')\n",
    "plt.legend(['MLP accuracy', 'CNN accuracy'])\n",
    "\n",
    "acc_fig.add_subplot(1, 2, 2)\n",
    "plt.plot(x, MLP_val)\n",
    "plt.plot(x, CNN_val)\n",
    "plt.title('Model accuracy on validation set')\n",
    "plt.legend(['MLP accuracy', 'CNN accuracy'])\n",
    "\n"
   ]
  },
  {
   "cell_type": "markdown",
   "id": "eb61032f",
   "metadata": {},
   "source": [
    "<h2> 6: Checking our results </h2>"
   ]
  },
  {
   "cell_type": "markdown",
   "id": "119e6e03",
   "metadata": {},
   "source": [
    "Here we will generate a few images from our testing set similarly to before, and display the predictions made by each of our models, alongside the labelled value given as the outputs of the training set."
   ]
  },
  {
   "cell_type": "code",
   "execution_count": 53,
   "id": "b6591191",
   "metadata": {},
   "outputs": [
    {
     "data": {
      "text/plain": [
       "<function matplotlib.pyplot.show(close=None, block=None)>"
      ]
     },
     "execution_count": 53,
     "metadata": {},
     "output_type": "execute_result"
    },
    {
     "data": {
      "image/png": "[encoded data removed]",
      "text/plain": [
       "<Figure size 720x360 with 10 Axes>"
      ]
     },
     "metadata": {
      "needs_background": "light"
     },
     "output_type": "display_data"
    }
   ],
   "source": [
    "fig = plt.figure(figsize = (10, 5))\n",
    "for i in range(10):\n",
    "    n = random.randint(0, 1000)\n",
    "    s_plot = fig.add_subplot(2, 5, i+1)\n",
    "    plt.imshow(x_test[n], cmap = 'gray_r')\n",
    "    \n",
    "    label_val = y_test[n].argmax()\n",
    "    MLP_input = x_test_MLP[n].reshape(1, 784)\n",
    "    MLP_pred = MLP.predict(MLP_input)[0].argmax()\n",
    "    CNN_input = x_test_CNN[n].reshape(1, 28, 28, 1)\n",
    "    CNN_pred = CNN.predict(CNN_input)[0].argmax()\n",
    "    \n",
    "    s_plot.text(0, -0.1, 'Labelled Value: ' + str(label_val), transform = s_plot.transAxes)\n",
    "    s_plot.text(0, -0.3, 'MLP Prediction: ' + str(MLP_pred), transform = s_plot.transAxes)\n",
    "    s_plot.text(0, -0.5, 'CNN Prediction: ' + str(CNN_pred), transform = s_plot.transAxes)\n",
    "    plt.axis('off')\n",
    "plt.show"
   ]
  },
  {
   "cell_type": "code",
   "execution_count": null,
   "id": "b13eeb36",
   "metadata": {},
   "outputs": [],
   "source": []
  }
 ],
 "metadata": {
  "kernelspec": {
   "display_name": "Python 3 (ipykernel)",
   "language": "python",
   "name": "python3"
  },
  "language_info": {
   "codemirror_mode": {
    "name": "ipython",
    "version": 3
   },
   "file_extension": ".py",
   "mimetype": "text/x-python",
   "name": "python",
   "nbconvert_exporter": "python",
   "pygments_lexer": "ipython3",
   "version": "3.9.0"
  }
 },
 "nbformat": 4,
 "nbformat_minor": 5
}
